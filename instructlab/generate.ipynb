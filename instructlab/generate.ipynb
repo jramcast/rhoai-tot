{
 "cells": [
  {
   "cell_type": "code",
   "execution_count": null,
   "id": "8f7fd483-b933-46e3-8875-6e5bd02f1117",
   "metadata": {},
   "outputs": [],
   "source": [
    "!git clone --depth 1  https://github.com/instructlab/taxonomy.git\n",
    "!git clone --depth 1 --branch instructlab  https://github.com/jramcast/rhoai-tot.git\n",
    "!cp rhoai-tot/instructlab/config.yaml .\n",
    "!cp rhoai-tot/instructlab/taxonomy ."
   ]
  },
  {
   "cell_type": "code",
   "execution_count": null,
   "id": "ea045cb0-7270-4a68-9750-2ecf2fb44d84",
   "metadata": {},
   "outputs": [],
   "source": [
    "!ilab model download"
   ]
  },
  {
   "cell_type": "code",
   "execution_count": null,
   "id": "33145b26-2aa9-45a3-b0a3-f6bdf5026b85",
   "metadata": {
    "tags": []
   },
   "outputs": [],
   "source": [
    "!ilab data generate"
   ]
  }
 ],
 "metadata": {
  "kernelspec": {
   "display_name": "Python 3.9",
   "language": "python",
   "name": "python3"
  },
  "language_info": {
   "codemirror_mode": {
    "name": "ipython",
    "version": 3
   },
   "file_extension": ".py",
   "mimetype": "text/x-python",
   "name": "python",
   "nbconvert_exporter": "python",
   "pygments_lexer": "ipython3",
   "version": "3.9.18"
  }
 },
 "nbformat": 4,
 "nbformat_minor": 5
}
