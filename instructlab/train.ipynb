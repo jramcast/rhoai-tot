{
 "cells": [
  {
   "cell_type": "code",
   "execution_count": null,
   "id": "8197fd45-309b-4f36-b251-4c8824bab279",
   "metadata": {},
   "outputs": [],
   "source": [
    "!ilab model train --device=cuda --epochs=3"
   ]
  }
 ],
 "metadata": {
  "kernelspec": {
   "display_name": "Python 3.9",
   "language": "python",
   "name": "python3"
  },
  "language_info": {
   "codemirror_mode": {
    "name": "ipython",
    "version": 3
   },
   "file_extension": ".py",
   "mimetype": "text/x-python",
   "name": "python",
   "nbconvert_exporter": "python",
   "pygments_lexer": "ipython3",
   "version": "3.9.18"
  }
 },
 "nbformat": 4,
 "nbformat_minor": 5
}
