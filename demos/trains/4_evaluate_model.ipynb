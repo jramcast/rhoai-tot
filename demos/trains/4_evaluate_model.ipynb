{
 "cells": [
  {
   "cell_type": "markdown",
   "id": "aad07e8c-7752-4cf2-b200-cf43d0ee9707",
   "metadata": {},
   "source": [
    "# Compare the base model with the new one"
   ]
  },
  {
   "cell_type": "code",
   "execution_count": null,
   "id": "5784dbf2-d14f-4e9f-a56e-b95b48e8e944",
   "metadata": {},
   "outputs": [],
   "source": [
    "import os\n",
    "import boto3\n",
    "from ultralytics import YOLO"
   ]
  },
  {
   "cell_type": "code",
   "execution_count": null,
   "id": "04152aa4-ed0b-483d-be98-017658667a9f",
   "metadata": {
    "tags": []
   },
   "outputs": [],
   "source": [
    "BASE_MODEL_BUCKET = \"model-registry\"\n",
    "BASE_MODEL_PATH = \"models/default/best.pt\"\n",
    "NEW_MODEL_PATH = \"models/new-model.pt\"\n",
    "\n",
    "MAP_THRESHOLD = float(os.getenv(\"map_threshold\", 0.8))\n",
    "\n",
    "AWS_ACCESS_KEY_ID = os.getenv(\"AWS_ACCESS_KEY_ID\")\n",
    "AWS_SECRET_ACCESS_KEY = os.getenv(\"AWS_SECRET_ACCESS_KEY\")\n",
    "AWS_S3_BUCKET = os.getenv(\"AWS_S3_BUCKET\")\n",
    "AWS_S3_ENDPOINT = os.getenv(\"AWS_S3_ENDPOINT\")"
   ]
  },
  {
   "cell_type": "code",
   "execution_count": null,
   "id": "af73ffb3-03f7-4a8b-b53c-88f04f7badda",
   "metadata": {},
   "outputs": [],
   "source": [
    "session = boto3.Session(\n",
    "    aws_access_key_id=AWS_ACCESS_KEY_ID,\n",
    "    aws_secret_access_key=AWS_SECRET_ACCESS_KEY\n",
    ")\n",
    "client = session.client(\"s3\", endpoint_url=AWS_S3_ENDPOINT)"
   ]
  },
  {
   "cell_type": "markdown",
   "id": "fbea39e0-3d16-4a6b-959b-dd02ee49af5c",
   "metadata": {},
   "source": [
    "## Get the models"
   ]
  },
  {
   "cell_type": "code",
   "execution_count": null,
   "id": "c95d426d-9a77-4785-bb9f-d1215892071c",
   "metadata": {},
   "outputs": [],
   "source": [
    "client.download_file(BASE_MODEL_BUCKET, BASE_MODEL_PATH, \"/tmp/base-model.pt\")\n",
    "client.download_file(AWS_S3_BUCKET, NEW_MODEL_PATH, \"/tmp/new-model.pt\")\n",
    "client.download_file(\"trains\", \"validation-dataset.tar.gz\", \"/tmp/validation-dataset.tar.gz\")"
   ]
  },
  {
   "cell_type": "code",
   "execution_count": null,
   "id": "5167713e-ff7c-43be-b897-ffe42064acd1",
   "metadata": {
    "tags": []
   },
   "outputs": [],
   "source": [
    "! tar -xzf /tmp/validation-dataset.tar.gz"
   ]
  },
  {
   "cell_type": "markdown",
   "id": "420b719f-c4e4-4696-bc6d-099c128d3a7f",
   "metadata": {},
   "source": [
    "## Base Model Results"
   ]
  },
  {
   "cell_type": "code",
   "execution_count": null,
   "id": "ee0932ea-4d57-456b-b729-80a037047778",
   "metadata": {
    "tags": []
   },
   "outputs": [],
   "source": [
    "model = YOLO(\"/tmp/base-model.pt\")\n",
    "results = model.val(data = \"utils/data.yaml\", split=\"test\")"
   ]
  },
  {
   "cell_type": "code",
   "execution_count": null,
   "id": "948d74b0-22e5-4df8-84f8-970497fe6e17",
   "metadata": {
    "tags": []
   },
   "outputs": [],
   "source": [
    "res = model(\"utils/sample-inference-example.jpg\")\n",
    "res[0].show()"
   ]
  },
  {
   "cell_type": "markdown",
   "id": "f0f6668c-b639-4311-9a2e-85f3458c576a",
   "metadata": {
    "tags": []
   },
   "source": [
    "## New Model Results"
   ]
  },
  {
   "cell_type": "code",
   "execution_count": null,
   "id": "979beae4-962d-44b5-9c12-7c207c728e78",
   "metadata": {
    "tags": []
   },
   "outputs": [],
   "source": [
    "new_model = YOLO(\"/tmp/new-model.pt\")\n",
    "results = new_model.val(data = \"utils/data.yaml\", split=\"test\")"
   ]
  },
  {
   "cell_type": "code",
   "execution_count": null,
   "id": "e6781b7c-73f2-4bc5-88fd-0da8324e4e86",
   "metadata": {
    "tags": []
   },
   "outputs": [],
   "source": [
    "res = new_model(\"utils/sample-inference-example.jpg\")\n",
    "res[0].show()"
   ]
  },
  {
   "cell_type": "markdown",
   "id": "57ccb90b",
   "metadata": {},
   "source": [
    "## Make the Pipeline Fail Based on a Minimal mAP50 Threshold"
   ]
  },
  {
   "cell_type": "code",
   "execution_count": null,
   "id": "27f31c29",
   "metadata": {},
   "outputs": [],
   "source": [
    "assert results.results_dict[\"metrics/mAP50(B)\"] >= MAP_THRESHOLD"
   ]
  }
 ],
 "metadata": {
  "kernelspec": {
   "display_name": "Python 3.9",
   "language": "python",
   "name": "python3"
  },
  "language_info": {
   "codemirror_mode": {
    "name": "ipython",
    "version": 3
   },
   "file_extension": ".py",
   "mimetype": "text/x-python",
   "name": "python",
   "nbconvert_exporter": "python",
   "pygments_lexer": "ipython3",
   "version": "3.9.19"
  }
 },
 "nbformat": 4,
 "nbformat_minor": 5
}
