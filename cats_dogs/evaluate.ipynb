{
 "cells": [
  {
   "cell_type": "code",
   "execution_count": 1,
   "id": "92315642-b98b-4563-8039-ea6b03a7ca50",
   "metadata": {
    "tags": []
   },
   "outputs": [],
   "source": [
    "import os\n",
    "from pathlib import Path\n",
    "\n",
    "import numpy as np\n",
    "from preprocessing import preprocess\n",
    "from collection import s3_download_file"
   ]
  },
  {
   "cell_type": "code",
   "execution_count": 2,
   "id": "51e943bb-0c3e-43cd-8ed2-db25414af8d7",
   "metadata": {
    "tags": []
   },
   "outputs": [
    {
     "name": "stdout",
     "output_type": "stream",
     "text": [
      "Requirement already satisfied: onnxruntime==1.18.1 in /opt/app-root/lib/python3.9/site-packages (1.18.1)\n",
      "Requirement already satisfied: coloredlogs in /opt/app-root/lib/python3.9/site-packages (from onnxruntime==1.18.1) (15.0.1)\n",
      "Requirement already satisfied: protobuf in /opt/app-root/lib/python3.9/site-packages (from onnxruntime==1.18.1) (4.25.3)\n",
      "Requirement already satisfied: sympy in /opt/app-root/lib/python3.9/site-packages (from onnxruntime==1.18.1) (1.12)\n",
      "Requirement already satisfied: numpy<2.0,>=1.21.6 in /opt/app-root/lib/python3.9/site-packages (from onnxruntime==1.18.1) (1.26.4)\n",
      "Requirement already satisfied: flatbuffers in /opt/app-root/lib/python3.9/site-packages (from onnxruntime==1.18.1) (24.3.25)\n",
      "Requirement already satisfied: packaging in /opt/app-root/lib/python3.9/site-packages (from onnxruntime==1.18.1) (24.0)\n",
      "Requirement already satisfied: humanfriendly>=9.1 in /opt/app-root/lib/python3.9/site-packages (from coloredlogs->onnxruntime==1.18.1) (10.0)\n",
      "Requirement already satisfied: mpmath>=0.19 in /opt/app-root/lib/python3.9/site-packages (from sympy->onnxruntime==1.18.1) (1.3.0)\n",
      "\n",
      "\u001b[1m[\u001b[0m\u001b[34;49mnotice\u001b[0m\u001b[1;39;49m]\u001b[0m\u001b[39;49m A new release of pip available: \u001b[0m\u001b[31;49m22.2.2\u001b[0m\u001b[39;49m -> \u001b[0m\u001b[32;49m24.1.1\u001b[0m\n",
      "\u001b[1m[\u001b[0m\u001b[34;49mnotice\u001b[0m\u001b[1;39;49m]\u001b[0m\u001b[39;49m To update, run: \u001b[0m\u001b[32;49mpip install --upgrade pip\u001b[0m\n",
      "Note: you may need to restart the kernel to use updated packages.\n"
     ]
    }
   ],
   "source": [
    "# Install the ONNX runtime to run inference\n",
    "%pip install onnxruntime==1.18.1\n",
    "import onnxruntime  # noqa"
   ]
  },
  {
   "cell_type": "code",
   "execution_count": 3,
   "id": "740b6819-8723-40c9-9abf-19d51649158a",
   "metadata": {
    "tags": []
   },
   "outputs": [],
   "source": [
    "# Define the accuracy threshold required on the test set\n",
    "EVAL_ACCURACY_THRESHOLD = os.getenv(\"eval_accuracy_threshold\", 0.8)"
   ]
  },
  {
   "cell_type": "code",
   "execution_count": 4,
   "id": "e1991d0a-2ac7-4141-9aeb-e8b7207189df",
   "metadata": {
    "tags": []
   },
   "outputs": [],
   "source": [
    "# Download an unzip the dataset\n",
    "S3_DATA_FILE = os.getenv(\"s3_data_file\", \"kagglecatsanddogs_5340.zip\")\n",
    "DOWNLOAD_PATH = Path(\".cache/data.zip\")\n",
    "\n",
    "if not DOWNLOAD_PATH.is_file():\n",
    "    s3_download_file(S3_DATA_FILE, DOWNLOAD_PATH)\n",
    "    !unzip -n -q .cache/data.zip -d .cache"
   ]
  },
  {
   "cell_type": "code",
   "execution_count": 5,
   "id": "39c7cf4a-2f22-44fa-86d3-f51a27aca960",
   "metadata": {
    "tags": []
   },
   "outputs": [
    {
     "name": "stdout",
     "output_type": "stream",
     "text": [
      "Deleted 0 corrupted images.\n"
     ]
    }
   ],
   "source": [
    "# Directory path of your dataset\n",
    "data_dir = '.cache/PetImages'\n",
    "\n",
    "# Preprocess the data, but we only need the test data loader for evaluation\n",
    "_, _, test_loader, _ = preprocess(data_dir)"
   ]
  },
  {
   "cell_type": "code",
   "execution_count": 6,
   "id": "8983a743-84bd-412f-9848-f242e865316c",
   "metadata": {
    "tags": []
   },
   "outputs": [
    {
     "data": {
      "text/plain": [
       "0.8763884933067502"
      ]
     },
     "execution_count": 6,
     "metadata": {},
     "output_type": "execute_result"
    }
   ],
   "source": [
    "session = onnxruntime.InferenceSession(\"model.onnx\")\n",
    "\n",
    "correct = 0\n",
    "\n",
    "for inputs, labels in test_loader:\n",
    "    # Convert PyTorch tensor to a NumPy array, expected by the ONNX model\n",
    "    onnx_inputs = {\"input\": inputs.numpy().astype(np.float32)}\n",
    "    onnx_output_names = [\"output\"]\n",
    "\n",
    "    result = session.run(onnx_output_names, onnx_inputs)\n",
    "    outputs = result[0]\n",
    "    preds = np.argmax(outputs, axis=1)\n",
    "    correct += np.sum(preds == labels.numpy())\n",
    "\n",
    "test_accuracy = correct / len(test_loader.dataset)\n",
    "\n",
    "test_accuracy"
   ]
  },
  {
   "cell_type": "code",
   "execution_count": 7,
   "id": "8b3b1a2c-46cd-4e23-8c13-ed925ce34e8f",
   "metadata": {
    "tags": []
   },
   "outputs": [],
   "source": [
    "assert test_accuracy >= EVAL_ACCURACY_THRESHOLD, (\n",
    "    f\"The model is not accurate enough ({test_accuracy}). \"\n",
    "    \"Deployment will be cancelled.\"\n",
    ")"
   ]
  }
 ],
 "metadata": {
  "kernelspec": {
   "display_name": "Python 3.9",
   "language": "python",
   "name": "python3"
  },
  "language_info": {
   "codemirror_mode": {
    "name": "ipython",
    "version": 3
   },
   "file_extension": ".py",
   "mimetype": "text/x-python",
   "name": "python",
   "nbconvert_exporter": "python",
   "pygments_lexer": "ipython3",
   "version": "3.9.18"
  }
 },
 "nbformat": 4,
 "nbformat_minor": 5
}
