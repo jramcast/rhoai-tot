{
 "cells": [
  {
   "cell_type": "markdown",
   "id": "09a458db-7f26-4bec-b462-e7b578987ff6",
   "metadata": {},
   "source": [
    "# Train the model"
   ]
  },
  {
   "cell_type": "code",
   "execution_count": null,
   "id": "63d6ff17-df88-49c6-9154-b5df8cb9a4da",
   "metadata": {
    "tags": []
   },
   "outputs": [],
   "source": [
    "import os\n",
    "from datetime import datetime\n",
    "import boto3\n",
    "from ultralytics import YOLO"
   ]
  },
  {
   "cell_type": "code",
   "execution_count": null,
   "id": "204b15cf-259a-404d-8ce4-6d64ef165cb9",
   "metadata": {
    "tags": []
   },
   "outputs": [],
   "source": [
    "!tar -xzf dataset-full.tar.gz"
   ]
  },
  {
   "cell_type": "code",
   "execution_count": null,
   "id": "d6835f90-1c86-4dbc-90bf-07bab94eba4e",
   "metadata": {
    "tags": []
   },
   "outputs": [],
   "source": [
    "EPOCHS = int(os.environ.get(\"epochs\", 50))\n",
    "IMGSZ = 640\n",
    "NB_FROZEN_LAYER = 0\n",
    "DATA_CONFIG_PATH = \"utils/data.yaml\"\n",
    "\n",
    "AWS_ACCESS_KEY_ID = os.getenv(\"AWS_ACCESS_KEY_ID\")\n",
    "AWS_SECRET_ACCESS_KEY = os.getenv(\"AWS_SECRET_ACCESS_KEY\")\n",
    "AWS_S3_BUCKET = os.getenv(\"AWS_S3_BUCKET\")\n",
    "AWS_S3_ENDPOINT = os.getenv(\"AWS_S3_ENDPOINT\")"
   ]
  },
  {
   "cell_type": "code",
   "execution_count": null,
   "id": "cd2dd2a8-df0a-4cb8-8963-342b7053ce34",
   "metadata": {
    "tags": []
   },
   "outputs": [],
   "source": [
    "session = boto3.Session(\n",
    "    aws_access_key_id=AWS_ACCESS_KEY_ID,\n",
    "    aws_secret_access_key=AWS_SECRET_ACCESS_KEY\n",
    ")\n",
    "client = session.client(\"s3\", endpoint_url=AWS_S3_ENDPOINT)"
   ]
  },
  {
   "cell_type": "code",
   "execution_count": null,
   "id": "38733727-4825-4e33-9e1b-53c8392a8fc3",
   "metadata": {},
   "outputs": [],
   "source": [
    "client.download_file(AWS_S3_BUCKET, \"base_model.pt\", \"base-model.pt\")"
   ]
  },
  {
   "cell_type": "markdown",
   "id": "1d750a71",
   "metadata": {},
   "source": [
    "## Load the base model and tune the model"
   ]
  },
  {
   "cell_type": "code",
   "execution_count": null,
   "id": "ba06a36f-66ac-467d-88c6-9b880819350a",
   "metadata": {
    "scrolled": true,
    "tags": []
   },
   "outputs": [],
   "source": [
    "model = YOLO('base-model.pt')\n",
    "results = model.train(data=DATA_CONFIG_PATH, epochs=EPOCHS, imgsz=IMGSZ, freeze=NB_FROZEN_LAYER, workers=0)"
   ]
  },
  {
   "cell_type": "markdown",
   "id": "ab34c4d1-89a5-41ea-964a-01344b156af9",
   "metadata": {},
   "source": [
    "## Export and Upload the Model"
   ]
  },
  {
   "cell_type": "code",
   "execution_count": null,
   "id": "f9065960-1525-424d-abbb-c11392679ae5",
   "metadata": {
    "tags": []
   },
   "outputs": [],
   "source": [
    "model = YOLO('runs/detect/train/weights/best.pt')"
   ]
  },
  {
   "cell_type": "code",
   "execution_count": null,
   "id": "1daeaa15-1c8e-4406-89e9-7aed074184f1",
   "metadata": {
    "tags": []
   },
   "outputs": [],
   "source": [
    "model.export(format=\"onnx\")"
   ]
  },
  {
   "cell_type": "code",
   "execution_count": null,
   "id": "5a2b783a-da22-4842-a942-5a25b89fb3c5",
   "metadata": {
    "tags": []
   },
   "outputs": [],
   "source": [
    "model_path = \"runs/detect/train/weights/best.onnx\"\n",
    "\n",
    "version = datetime.now().strftime(\"%Y_%m_%d_%H_%M_%S\")\n",
    "s3_dir = f\"models/v{version}\"\n",
    "s3_dir_latest = \"models/latest\"\n",
    "s3_onnx_path = f\"{s3_dir}/model.onnx\"\n",
    "s3_onnx_path_latest = f\"{s3_dir_latest}/model.onnx\"\n",
    "\n",
    "client.upload_file(model_path, AWS_S3_BUCKET, s3_onnx_path)\n",
    "print(f\"Model uploaded to S3 at {s3_onnx_path}\")\n",
    "client.upload_file(model_path, AWS_S3_BUCKET, s3_onnx_path_latest)\n",
    "print(f\"Model uploaded to S3 at {s3_onnx_path_latest}\")\n",
    "\n",
    "client.upload_file('runs/detect/train/weights/best.pt', AWS_S3_BUCKET, f\"{s3_dir}/model.pt\")\n",
    "client.upload_file('runs/detect/train/weights/best.pt', AWS_S3_BUCKET, f\"{s3_dir_latest}/model.pt\")\n",
    "client.upload_file('runs/detect/train/results.csv', AWS_S3_BUCKET, f\"{s3_dir}/results.csv\")\n",
    "client.upload_file('runs/detect/train/results.csv', AWS_S3_BUCKET, f\"{s3_dir_latest}/results.csv\")"
   ]
  }
 ],
 "metadata": {
  "kernelspec": {
   "display_name": "Python 3.9",
   "language": "python",
   "name": "python3"
  },
  "language_info": {
   "codemirror_mode": {
    "name": "ipython",
    "version": 3
   },
   "file_extension": ".py",
   "mimetype": "text/x-python",
   "name": "python",
   "nbconvert_exporter": "python",
   "pygments_lexer": "ipython3",
   "version": "3.9.19"
  }
 },
 "nbformat": 4,
 "nbformat_minor": 5
}
