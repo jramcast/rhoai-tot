{
 "cells": [
  {
   "cell_type": "code",
   "execution_count": 1,
   "metadata": {
    "tags": []
   },
   "outputs": [],
   "source": [
    "import os\n",
    "#import keras\n",
    "import torch\n",
    "import numpy as np\n",
    "from collect import s3_download_file\n",
    "from torchvision import datasets, transforms\n",
    "from torch.utils.data import DataLoader\n",
    "import torch\n",
    "import torch.nn as nn\n",
    "import torch.optim as optim\n",
    "from torchvision import datasets, transforms, models\n",
    "from torch.utils.data import DataLoader\n",
    "\n"
   ]
  },
  {
   "cell_type": "code",
   "execution_count": null,
   "metadata": {},
   "outputs": [],
   "source": [
    "s3_download_file(\"kagglecatsanddogs_5340.zip\", \"data.zip\")"
   ]
  },
  {
   "cell_type": "code",
   "execution_count": null,
   "metadata": {
    "tags": []
   },
   "outputs": [],
   "source": [
    "!unzip -q -n data.zip"
   ]
  },
  {
   "cell_type": "code",
   "execution_count": 2,
   "metadata": {
    "tags": []
   },
   "outputs": [
    {
     "name": "stdout",
     "output_type": "stream",
     "text": [
      "Deleted 0 corrupted images.\n"
     ]
    }
   ],
   "source": [
    "num_skipped = 0\n",
    "for folder_name in (\"Cat\", \"Dog\"):\n",
    "    folder_path = os.path.join(\"PetImages\", folder_name)\n",
    "    for fname in os.listdir(folder_path):\n",
    "        fpath = os.path.join(folder_path, fname)\n",
    "        try:\n",
    "            fobj = open(fpath, \"rb\")\n",
    "            is_jfif = b\"JFIF\" in fobj.peek(10)\n",
    "        finally:\n",
    "            fobj.close()\n",
    "\n",
    "        if not is_jfif:\n",
    "            num_skipped += 1\n",
    "            # Delete corrupted image\n",
    "            os.remove(fpath)\n",
    "\n",
    "print(f\"Deleted {num_skipped} corrupted images.\")"
   ]
  },
  {
   "cell_type": "code",
   "execution_count": 3,
   "metadata": {
    "tags": []
   },
   "outputs": [
    {
     "name": "stdout",
     "output_type": "stream",
     "text": [
      "['Cat', 'Dog']\n",
      "torch.Size([32, 3, 50, 50]) torch.Size([32])\n"
     ]
    }
   ],
   "source": [
    "# Define the directory path to your dataset\n",
    "data_dir = 'PetImages'\n",
    "\n",
    "# Define transformations to be applied to each image\n",
    "transform = transforms.Compose([\n",
    "    transforms.Resize((50, 50)),  # Resize the images to a fixed size\n",
    "    transforms.ToTensor(),          # Convert images to PyTorch tensors\n",
    "    transforms.Normalize(mean=[0.485, 0.456, 0.406], std=[0.229, 0.224, 0.225])  # Normalize the images\n",
    "])\n",
    "\n",
    "# Create the dataset\n",
    "dataset = datasets.ImageFolder(root=data_dir, transform=transform)\n",
    "\n",
    "# Split the dataset into training and validation sets (optional)\n",
    "train_size = int(0.8 * len(dataset))\n",
    "val_size = len(dataset) - train_size\n",
    "train_dataset, val_dataset = torch.utils.data.random_split(dataset, [train_size, val_size])\n",
    "\n",
    "# Create data loaders\n",
    "train_loader = DataLoader(train_dataset, batch_size=32, shuffle=True, num_workers=4)\n",
    "val_loader = DataLoader(val_dataset, batch_size=32, shuffle=False, num_workers=4)\n",
    "\n",
    "# Check the dataset class labels\n",
    "print(dataset.classes)  # Output: ['Cat', 'Dog']\n",
    "\n",
    "# Iterate through the data loader\n",
    "for images, labels in train_loader:\n",
    "    print(images.size(), labels.size())  # Example output: torch.Size([32, 3, 224, 224]) torch.Size([32])\n",
    "    break"
   ]
  },
  {
   "cell_type": "code",
   "execution_count": 5,
   "metadata": {},
   "outputs": [
    {
     "name": "stdout",
     "output_type": "stream",
     "text": [
      "Epoch 1/10, \n",
      " Training Loss: 0.4139\n",
      "Validation Loss: 0.4070, Accuracy: 0.7826\n",
      "Epoch 2/10, \n",
      " Training Loss: 0.2825\n",
      "Validation Loss: 0.3051, Accuracy: 0.8706\n",
      "Epoch 3/10, \n",
      " Training Loss: 0.2249\n",
      "Validation Loss: 0.3125, Accuracy: 0.8704\n",
      "Epoch 4/10, \n",
      " Training Loss: 0.1852\n",
      "Validation Loss: 0.3332, Accuracy: 0.8610\n",
      "Epoch 5/10, \n",
      " Training Loss: 0.1535\n",
      "Validation Loss: 0.3493, Accuracy: 0.8748\n",
      "Epoch 6/10, \n",
      " Training Loss: 0.1294\n",
      "Validation Loss: 0.2810, Accuracy: 0.8881\n",
      "Epoch 7/10, \n",
      " Training Loss: 0.0934\n",
      "Validation Loss: 0.3358, Accuracy: 0.8913\n",
      "Epoch 8/10, \n",
      " Training Loss: 0.0891\n",
      "Validation Loss: 0.4179, Accuracy: 0.8648\n",
      "Epoch 9/10, \n",
      " Training Loss: 0.0676\n",
      "Validation Loss: 0.3852, Accuracy: 0.8746\n",
      "Epoch 10/10, \n",
      " Training Loss: 0.0659\n",
      "Validation Loss: 0.3709, Accuracy: 0.8830\n"
     ]
    }
   ],
   "source": [
    "# Define the model (use a pre-trained ResNet and modify the final layer)\n",
    "model = models.resnet18(pretrained=True)\n",
    "num_ftrs = model.fc.in_features\n",
    "model.fc = nn.Linear(num_ftrs, 2)  # 2 classes: Cat and Dog\n",
    "\n",
    "# Move the model to the GPU if available\n",
    "device = torch.device(\"cuda:0\" if torch.cuda.is_available() else \"cpu\")\n",
    "model = model.to(device)\n",
    "\n",
    "# Define loss function and optimizer\n",
    "criterion = nn.CrossEntropyLoss()\n",
    "optimizer = optim.Adam(model.parameters(), lr=0.001)\n",
    "\n",
    "# Training loop\n",
    "num_epochs = 10\n",
    "for epoch in range(num_epochs):\n",
    "    model.train()\n",
    "    running_loss = 0.0\n",
    "    for inputs, labels in train_loader:\n",
    "        inputs, labels = inputs.to(device), labels.to(device)\n",
    "\n",
    "        optimizer.zero_grad()  # Zero the parameter gradients\n",
    "        outputs = model(inputs)\n",
    "        loss = criterion(outputs, labels)\n",
    "        loss.backward()\n",
    "        optimizer.step()\n",
    "\n",
    "        running_loss += loss.item() * inputs.size(0)\n",
    "\n",
    "    epoch_loss = running_loss / len(train_loader.dataset)\n",
    "    print(f'Epoch {epoch+1}/{num_epochs}, \\n Training Loss: {epoch_loss:.4f}')\n",
    "\n",
    "    # Validation loop\n",
    "    model.eval()\n",
    "    val_loss = 0.0\n",
    "    correct = 0\n",
    "    with torch.no_grad():\n",
    "        for inputs, labels in val_loader:\n",
    "            inputs, labels = inputs.to(device), labels.to(device)\n",
    "            outputs = model(inputs)\n",
    "            loss = criterion(outputs, labels)\n",
    "            val_loss += loss.item() * inputs.size(0)\n",
    "\n",
    "            _, preds = torch.max(outputs, 1)\n",
    "            correct += torch.sum(preds == labels.data)\n",
    "\n",
    "    val_loss /= len(val_loader.dataset)\n",
    "    val_accuracy = correct.double() / len(val_loader.dataset)\n",
    "    print(f' Validation Loss: {val_loss:.4f}, Accuracy: {val_accuracy:.4f}')\n"
   ]
  },
  {
   "cell_type": "code",
   "execution_count": 19,
   "metadata": {
    "tags": []
   },
   "outputs": [
    {
     "ename": "AttributeError",
     "evalue": "'Image' object has no attribute 'shape'",
     "output_type": "error",
     "traceback": [
      "\u001b[0;31m---------------------------------------------------------------------------\u001b[0m",
      "\u001b[0;31mAttributeError\u001b[0m                            Traceback (most recent call last)",
      "Cell \u001b[0;32mIn[19], line 6\u001b[0m\n\u001b[1;32m      4\u001b[0m image \u001b[38;5;241m=\u001b[39m Image\u001b[38;5;241m.\u001b[39mopen(\u001b[38;5;124m\"\u001b[39m\u001b[38;5;124mPetImages/Cat/0.jpg\u001b[39m\u001b[38;5;124m\"\u001b[39m)\u001b[38;5;241m.\u001b[39mconvert(\u001b[38;5;124m'\u001b[39m\u001b[38;5;124mRGB\u001b[39m\u001b[38;5;124m'\u001b[39m)\n\u001b[1;32m      5\u001b[0m \u001b[38;5;66;03m#image = transform(image).unsqueeze(0)\u001b[39;00m\n\u001b[0;32m----> 6\u001b[0m \u001b[38;5;28mprint\u001b[39m(\u001b[43mimage\u001b[49m\u001b[38;5;241;43m.\u001b[39;49m\u001b[43mshape\u001b[49m)\n\u001b[1;32m      7\u001b[0m image \u001b[38;5;241m=\u001b[39m image\u001b[38;5;241m.\u001b[39mto(device)\n\u001b[1;32m      8\u001b[0m  \u001b[38;5;66;03m# Make prediction\u001b[39;00m\n",
      "\u001b[0;31mAttributeError\u001b[0m: 'Image' object has no attribute 'shape'"
     ]
    }
   ],
   "source": [
    "# Test with new image\n",
    "from PIL import Image\n",
    "\n",
    "image = Image.open(\"PetImages/Cat/0.jpg\").convert('RGB')\n",
    "# Put the image in a batch of size 1\n",
    "image = transform(image).unsqueeze(0)\n",
    "print(image.shape)\n",
    "image = image.to(device)\n",
    " # Make prediction\n",
    "with torch.no_grad():\n",
    "    outputs = model(image)\n",
    "    _, preds = torch.max(outputs, 1)\n",
    "\n",
    "# Map the prediction to the class label\n",
    "class_names = ['Cat', 'Dog']\n",
    "predicted_class = class_names[preds.item()]\n",
    "print(predicted_class)"
   ]
  },
  {
   "cell_type": "code",
   "execution_count": 30,
   "metadata": {},
   "outputs": [],
   "source": [
    "#first_batch_example = next(iter(val_loader))[0].to(device)\n",
    "first_batch_example = torch.randn(1, 3, 50, 50).to(device)\n",
    "torch.onnx.export(model, first_batch_example, \"cats-vs-dogs.onnx\")"
   ]
  }
 ],
 "metadata": {
  "kernelspec": {
   "display_name": "Python 3.9",
   "language": "python",
   "name": "python3"
  },
  "language_info": {
   "codemirror_mode": {
    "name": "ipython",
    "version": 3
   },
   "file_extension": ".py",
   "mimetype": "text/x-python",
   "name": "python",
   "nbconvert_exporter": "python",
   "pygments_lexer": "ipython3",
   "version": "3.9.18"
  }
 },
 "nbformat": 4,
 "nbformat_minor": 4
}
