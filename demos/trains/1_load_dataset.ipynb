{
 "cells": [
  {
   "cell_type": "code",
   "execution_count": null,
   "metadata": {},
   "outputs": [],
   "source": [
    "import os\n",
    "import pathlib\n",
    "import cv2\n",
    "import boto3\n",
    "import matplotlib.pyplot as plt"
   ]
  },
  {
   "cell_type": "markdown",
   "metadata": {},
   "source": [
    "## Read Data Connection Variables"
   ]
  },
  {
   "cell_type": "code",
   "execution_count": null,
   "metadata": {},
   "outputs": [],
   "source": [
    "AWS_ACCESS_KEY_ID = os.environ.get(\"AWS_ACCESS_KEY_ID\")\n",
    "AWS_SECRET_ACCESS_KEY = os.environ.get(\"AWS_SECRET_ACCESS_KEY\")\n",
    "AWS_S3_BUCKET = os.environ.get(\"AWS_S3_BUCKET\")\n",
    "AWS_S3_ENDPOINT = os.environ.get(\"AWS_S3_ENDPOINT\")"
   ]
  },
  {
   "cell_type": "markdown",
   "metadata": {},
   "source": [
    "## Define S3 Connection"
   ]
  },
  {
   "cell_type": "code",
   "execution_count": null,
   "metadata": {},
   "outputs": [],
   "source": [
    "session = boto3.Session(\n",
    "    aws_access_key_id=AWS_ACCESS_KEY_ID,\n",
    "    aws_secret_access_key=AWS_SECRET_ACCESS_KEY\n",
    ")\n",
    "client = session.client(\"s3\", endpoint_url=AWS_S3_ENDPOINT)"
   ]
  },
  {
   "cell_type": "markdown",
   "metadata": {},
   "source": [
    "## Download and Extract the Dataset"
   ]
  },
  {
   "cell_type": "code",
   "execution_count": null,
   "metadata": {},
   "outputs": [],
   "source": [
    "if not AWS_ACCESS_KEY_ID:\n",
    "    # If S3 is not used in the demo, we can fallback\n",
    "    # to the _scenario_resources directory.\n",
    "    !cp _scenario_resources/dataset.tar.gz dataset.tar.gz\n",
    "else:\n",
    "    client.download_file(AWS_S3_BUCKET, \"dataset.tar.gz\", \"dataset.tar.gz\")\n",
    "    print(\"Files downloaded from S3\")\n",
    "\n",
    "!tar -xzf dataset.tar.gz"
   ]
  },
  {
   "cell_type": "markdown",
   "metadata": {},
   "source": [
    "## Inspect the Data"
   ]
  },
  {
   "cell_type": "code",
   "execution_count": null,
   "metadata": {},
   "outputs": [],
   "source": [
    "!ls -l dataset/"
   ]
  },
  {
   "cell_type": "code",
   "execution_count": null,
   "metadata": {},
   "outputs": [],
   "source": [
    "!ls -l dataset/images"
   ]
  },
  {
   "cell_type": "markdown",
   "metadata": {},
   "source": [
    "### Number of Training Images"
   ]
  },
  {
   "cell_type": "code",
   "execution_count": null,
   "metadata": {},
   "outputs": [],
   "source": [
    "!ls -1 dataset/images/train | wc -l"
   ]
  },
  {
   "cell_type": "markdown",
   "metadata": {},
   "source": [
    "### Number of Validation Images"
   ]
  },
  {
   "cell_type": "code",
   "execution_count": null,
   "metadata": {},
   "outputs": [],
   "source": [
    "!ls -1 dataset/images/val | wc -l"
   ]
  },
  {
   "cell_type": "markdown",
   "metadata": {},
   "source": [
    "### Number of Test Images"
   ]
  },
  {
   "cell_type": "code",
   "execution_count": null,
   "metadata": {},
   "outputs": [],
   "source": [
    "!ls -1 dataset/images/test | wc -l"
   ]
  },
  {
   "cell_type": "markdown",
   "metadata": {},
   "source": [
    "## Visualize the Data\n",
    "\n",
    "### Images"
   ]
  },
  {
   "cell_type": "code",
   "execution_count": null,
   "metadata": {},
   "outputs": [],
   "source": [
    "files = [f for f in os.listdir(\"dataset/images/train\")][:9]\n",
    "fig = plt.figure(figsize=(10, 7))\n",
    "rows, columns = 3, 3\n",
    "for i, file in enumerate(files):\n",
    "    fig.add_subplot(rows, columns, i+1)\n",
    "    image = cv2.imread(str(pathlib.Path(\"dataset/images/train\") / file))\n",
    "    image = cv2.cvtColor(image, cv2.COLOR_BGR2RGB)\n",
    "    plt.imshow(image)"
   ]
  },
  {
   "cell_type": "markdown",
   "metadata": {},
   "source": [
    "### Labels"
   ]
  },
  {
   "cell_type": "code",
   "execution_count": null,
   "metadata": {
    "tags": []
   },
   "outputs": [],
   "source": [
    "labels = [f.replace(\"images\", \"labeles\").replace(\".jpg\", \".txt\") for f in files][2:]\n",
    "for l in labels:\n",
    "    with open(pathlib.Path(\"dataset/labels/train\") / l) as f:\n",
    "        print(l)\n",
    "        print(f.read())"
   ]
  },
  {
   "cell_type": "markdown",
   "metadata": {},
   "source": [
    "### Images and Labels"
   ]
  },
  {
   "cell_type": "code",
   "execution_count": null,
   "metadata": {},
   "outputs": [],
   "source": [
    "CLASSES = {0: \"SpeedLimit\", 1: \"DangerAhead\"}\n",
    "\n",
    "\n",
    "# Utility function to draw bounding boxes on an image\n",
    "def draw_bounding_boxes(image, bboxes, ):\n",
    "    for bbox in bboxes:\n",
    "        class_id, x_center, y_center, width, height = bbox\n",
    "\n",
    "        label = CLASSES[int(class_id)] + f\" ({class_id})\"\n",
    "\n",
    "\n",
    "        img_h, img_w = image.shape[:2]\n",
    "        x1 = int((x_center - width / 2) * img_w)\n",
    "        y1 = int((y_center - height / 2) * img_h)\n",
    "        x2 = int((x_center + width / 2) * img_w)\n",
    "        y2 = int((y_center + height / 2) * img_h)\n",
    "\n",
    "        cv2.rectangle(image, (x1, y1), (x2, y2), (0, 0, 0), 2)\n",
    "        cv2.putText(image, label, (x1, y1 - 10), cv2.FONT_HERSHEY_SIMPLEX, 0.5, (0, 0, 0), 2)\n",
    "    return image\n",
    "\n",
    "# Function to read bounding boxes from a YOLO format text file\n",
    "def read_bounding_boxes(label_file):\n",
    "    bboxes = []\n",
    "    with open(label_file, 'r') as f:\n",
    "        for line in f.readlines():\n",
    "            parts = line.strip().split()\n",
    "            bboxes.append([float(x) for x in parts])\n",
    "    return bboxes\n",
    "\n",
    "\n",
    "image_path = \"dataset/images/val/small_IMG_1522.jpg\"\n",
    "label_file = \"dataset/labels/val/small_IMG_1522.txt\"\n",
    "\n",
    "image = cv2.imread(image_path)\n",
    "bboxes = read_bounding_boxes(label_file)\n",
    "image_with_boxes = draw_bounding_boxes(image, bboxes)\n",
    "\n",
    "# Display the image with bounding boxes\n",
    "plt.figure(figsize=(10, 10))\n",
    "plt.imshow(cv2.cvtColor(image_with_boxes, cv2.COLOR_BGR2RGB))\n",
    "plt.axis('off')\n",
    "plt.show()"
   ]
  }
 ],
 "metadata": {
  "kernelspec": {
   "display_name": "Python 3.9",
   "language": "python",
   "name": "python3"
  },
  "language_info": {
   "codemirror_mode": {
    "name": "ipython",
    "version": 3
   },
   "file_extension": ".py",
   "mimetype": "text/x-python",
   "name": "python",
   "nbconvert_exporter": "python",
   "pygments_lexer": "ipython3",
   "version": "3.9.19"
  }
 },
 "nbformat": 4,
 "nbformat_minor": 4
}
